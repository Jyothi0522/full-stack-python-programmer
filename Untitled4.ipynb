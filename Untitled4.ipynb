{
 "cells": [
  {
   "cell_type": "code",
   "execution_count": 1,
   "id": "cd3f2f10-89b6-4d00-8a0c-4f339c63ee2d",
   "metadata": {},
   "outputs": [
    {
     "name": "stdout",
     "output_type": "stream",
     "text": [
      "Hello,Python Full Stack Students!\n"
     ]
    }
   ],
   "source": [
    "print(\"Hello,Python Full Stack Students!\")"
   ]
  },
  {
   "cell_type": "code",
   "execution_count": 2,
   "id": "f0c1269e-d174-4c53-940f-63569a3b3a23",
   "metadata": {},
   "outputs": [
    {
     "name": "stdout",
     "output_type": "stream",
     "text": [
      "hello,world full stack students!\n"
     ]
    }
   ],
   "source": [
    "print(\"hello,world full stack students!\")"
   ]
  },
  {
   "cell_type": "code",
   "execution_count": 3,
   "id": "6586db71-a25b-4776-9dbe-113670f22782",
   "metadata": {},
   "outputs": [
    {
     "name": "stdout",
     "output_type": "stream",
     "text": [
      "hello i am jyothi!\n"
     ]
    }
   ],
   "source": [
    "print(\"hello i am jyothi!\")"
   ]
  },
  {
   "cell_type": "code",
   "execution_count": 4,
   "id": "5b642b8f-4777-4b5e-afc6-9fc982540608",
   "metadata": {},
   "outputs": [
    {
     "name": "stdout",
     "output_type": "stream",
     "text": [
      "hello i am commerce student!\n"
     ]
    }
   ],
   "source": [
    "print(\"hello i am commerce student!\")"
   ]
  },
  {
   "cell_type": "code",
   "execution_count": 5,
   "id": "964c215e-d48d-497b-b522-3d0f2c96a3db",
   "metadata": {},
   "outputs": [
    {
     "name": "stdout",
     "output_type": "stream",
     "text": [
      "name :Jyothi!\n",
      "age:18!\n",
      "GPA:7.5!\n",
      "IS_Student:True!\n"
     ]
    }
   ],
   "source": [
    "print(\"name :Jyothi!\")\n",
    "print(\"age:18!\")\n",
    "print(\"GPA:7.5!\")\n",
    "print(\"IS_Student:True!\")"
   ]
  },
  {
   "cell_type": "code",
   "execution_count": 6,
   "id": "d5f6f758-d02e-479b-801f-8444403f50ef",
   "metadata": {},
   "outputs": [
    {
     "name": "stdout",
     "output_type": "stream",
     "text": [
      "name:bhavana!\n",
      "age:18!\n",
      "GPA:8.8!\n",
      "IS_Student:true!\n"
     ]
    }
   ],
   "source": [
    "print(\"name:bhavana!\")\n",
    "print(\"age:18!\")\n",
    "print(\"GPA:8.8!\")\n",
    "print(\"IS_Student:true!\")"
   ]
  },
  {
   "cell_type": "code",
   "execution_count": 17,
   "id": "57cede15-a176-4093-b8da-5ecbc0a3e86a",
   "metadata": {},
   "outputs": [
    {
     "name": "stdout",
     "output_type": "stream",
     "text": [
      "<class 'int'> <class 'float'> <class 'str'> <class 'bool'>\n"
     ]
    }
   ],
   "source": [
    "x=22\n",
    "y=8.8\n",
    "z=\"python\"\n",
    "flag=False\n",
    "print(type(x),type(y),type(z),type(flag))\n",
    "\n"
   ]
  },
  {
   "cell_type": "code",
   "execution_count": 19,
   "id": "3020aead-a172-4a8f-81fc-2183d84dcf4a",
   "metadata": {},
   "outputs": [
    {
     "name": "stdout",
     "output_type": "stream",
     "text": [
      "Jyothi,Avinash college,c&c++\n"
     ]
    }
   ],
   "source": [
    "print(\"Jyothi,Avinash college,c&c++\")"
   ]
  },
  {
   "cell_type": "code",
   "execution_count": 24,
   "id": "1710f6ef-41a3-415a-b283-7db018617b37",
   "metadata": {},
   "outputs": [
    {
     "name": "stdout",
     "output_type": "stream",
     "text": [
      "18\n"
     ]
    }
   ],
   "source": [
    "birth_year=2007\n",
    "current_year=2025\n",
    "print(current_year-birth_year)"
   ]
  },
  {
   "cell_type": "markdown",
   "id": "d91a9fa8-1008-4c07-96fc-bd9638f88799",
   "metadata": {},
   "source": [
    "movie_name=\"doll\"\n",
    "realse_year=2025\n",
    "rating=8\n",
    "print(movie_name,realse_year,rating)"
   ]
  },
  {
   "cell_type": "code",
   "execution_count": 25,
   "id": "8d62e026-42e9-4dae-b965-5448497ec8c3",
   "metadata": {},
   "outputs": [
    {
     "name": "stdout",
     "output_type": "stream",
     "text": [
      "addition: 19\n",
      "division: 3.75\n",
      "floor division: 3\n",
      "power: 50625\n"
     ]
    }
   ],
   "source": [
    "a=15\n",
    "b=4\n",
    "print(\"addition:\",15+4)\n",
    "print(\"division:\",15/4)\n",
    "print(\"floor division:\",15//4)\n",
    "print(\"power:\",15**4)"
   ]
  },
  {
   "cell_type": "code",
   "execution_count": 26,
   "id": "4b6f1890-13ee-43fd-8040-bab88509d8e7",
   "metadata": {},
   "outputs": [
    {
     "name": "stdout",
     "output_type": "stream",
     "text": [
      "False\n",
      "True\n",
      "True\n"
     ]
    }
   ],
   "source": [
    "a=10\n",
    "b=20\n",
    "print(10>20)#flase\n",
    "print(a==10)#true\n",
    "print((10<20)and(b==20))#true"
   ]
  },
  {
   "cell_type": "code",
   "execution_count": null,
   "id": "b39f51cf-f448-45aa-8eb4-86083bafb2f2",
   "metadata": {},
   "outputs": [],
   "source": []
  }
 ],
 "metadata": {
  "kernelspec": {
   "display_name": "Python [conda env:base] *",
   "language": "python",
   "name": "conda-base-py"
  },
  "language_info": {
   "codemirror_mode": {
    "name": "ipython",
    "version": 3
   },
   "file_extension": ".py",
   "mimetype": "text/x-python",
   "name": "python",
   "nbconvert_exporter": "python",
   "pygments_lexer": "ipython3",
   "version": "3.13.5"
  }
 },
 "nbformat": 4,
 "nbformat_minor": 5
}
